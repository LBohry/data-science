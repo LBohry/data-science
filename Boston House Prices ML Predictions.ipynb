{
  "nbformat": 4,
  "nbformat_minor": 0,
  "metadata": {
    "colab": {
      "name": "DM_BahaeddineBenAbdallah_IlyessZekri.ipynb",
      "provenance": [],
      "collapsed_sections": [],
      "include_colab_link": true
    },
    "kernelspec": {
      "name": "python3",
      "display_name": "Python 3"
    },
    "language_info": {
      "name": "python"
    }
  },
  "cells": [
    {
      "cell_type": "markdown",
      "metadata": {
        "id": "view-in-github",
        "colab_type": "text"
      },
      "source": [
        "<a href=\"https://colab.research.google.com/github/LBohry/data-science/blob/master/Boston%20House%20Prices%20ML%20Predictions.ipynb\" target=\"_parent\"><img src=\"https://colab.research.google.com/assets/colab-badge.svg\" alt=\"Open In Colab\"/></a>"
      ]
    },
    {
      "cell_type": "markdown",
      "source": [
        "# ***Boston House Prices***"
      ],
      "metadata": {
        "id": "TjW29u1ZtB0U"
      }
    },
    {
      "cell_type": "markdown",
      "source": [
        "### *Importing The Libraries* "
      ],
      "metadata": {
        "id": "xKphrrHFtUty"
      }
    },
    {
      "cell_type": "code",
      "source": [
        "import numpy as np\n",
        "import matplotlib.pyplot as plt\n",
        "import pandas as pd\n",
        "import seaborn as sns\n",
        "from sklearn import metrics"
      ],
      "metadata": {
        "id": "q4YJ6ah-tiwX"
      },
      "execution_count": null,
      "outputs": []
    },
    {
      "cell_type": "code",
      "source": [
        "def print_evaluate(true, predicted):  \n",
        "    mae = metrics.mean_absolute_error(true, predicted)\n",
        "    mse = metrics.mean_squared_error(true, predicted)\n",
        "    rmse = np.sqrt(metrics.mean_squared_error(true, predicted))\n",
        "    r2_square = metrics.r2_score(true, predicted)\n",
        "    print('MAE:', mae)\n",
        "    print('MSE:', mse)\n",
        "    print('RMSE:', rmse)\n",
        "    print('R2 Square', r2_square)\n",
        "    print('__________________________________')"
      ],
      "metadata": {
        "id": "L0sslMQ6wR9w"
      },
      "execution_count": null,
      "outputs": []
    },
    {
      "cell_type": "markdown",
      "source": [
        "### *Importing The Dataset*"
      ],
      "metadata": {
        "id": "BVXoD0R9tvyX"
      }
    },
    {
      "cell_type": "code",
      "source": [
        "dataset = pd.read_csv('boston.csv')\n",
        "x = dataset.iloc[:, :-1].values\n",
        "y = dataset.iloc[:, -1].values"
      ],
      "metadata": {
        "id": "D7FjGzfbt14S"
      },
      "execution_count": null,
      "outputs": []
    },
    {
      "cell_type": "markdown",
      "source": [
        "### *Data Exploration And Cleaning*"
      ],
      "metadata": {
        "id": "NSCcA-BdugOv"
      }
    },
    {
      "cell_type": "code",
      "source": [
        "dataset.head()"
      ],
      "metadata": {
        "colab": {
          "base_uri": "https://localhost:8080/",
          "height": 206
        },
        "id": "zv3_GcwSulf8",
        "outputId": "fa760d4e-6c1d-4a9a-c85d-cb8f0661983c"
      },
      "execution_count": null,
      "outputs": [
        {
          "output_type": "execute_result",
          "data": {
            "text/plain": [
              "      CRIM    ZN  INDUS  CHAS    NOX     RM   AGE     DIS  RAD    TAX  \\\n",
              "0  0.00632  18.0   2.31     0  0.538  6.575  65.2  4.0900    1  296.0   \n",
              "1  0.02731   0.0   7.07     0  0.469  6.421  78.9  4.9671    2  242.0   \n",
              "2  0.02729   0.0   7.07     0  0.469  7.185  61.1  4.9671    2  242.0   \n",
              "3  0.03237   0.0   2.18     0  0.458  6.998  45.8  6.0622    3  222.0   \n",
              "4  0.06905   0.0   2.18     0  0.458  7.147  54.2  6.0622    3  222.0   \n",
              "\n",
              "   PTRATIO       B  LSTAT  MEDV  \n",
              "0     15.3  396.90   4.98  24.0  \n",
              "1     17.8  396.90   9.14  21.6  \n",
              "2     17.8  392.83   4.03  34.7  \n",
              "3     18.7  394.63   2.94  33.4  \n",
              "4     18.7  396.90   5.33  36.2  "
            ],
            "text/html": [
              "\n",
              "  <div id=\"df-b8d66cc2-6e03-487b-9211-56ac02aabcc6\">\n",
              "    <div class=\"colab-df-container\">\n",
              "      <div>\n",
              "<style scoped>\n",
              "    .dataframe tbody tr th:only-of-type {\n",
              "        vertical-align: middle;\n",
              "    }\n",
              "\n",
              "    .dataframe tbody tr th {\n",
              "        vertical-align: top;\n",
              "    }\n",
              "\n",
              "    .dataframe thead th {\n",
              "        text-align: right;\n",
              "    }\n",
              "</style>\n",
              "<table border=\"1\" class=\"dataframe\">\n",
              "  <thead>\n",
              "    <tr style=\"text-align: right;\">\n",
              "      <th></th>\n",
              "      <th>CRIM</th>\n",
              "      <th>ZN</th>\n",
              "      <th>INDUS</th>\n",
              "      <th>CHAS</th>\n",
              "      <th>NOX</th>\n",
              "      <th>RM</th>\n",
              "      <th>AGE</th>\n",
              "      <th>DIS</th>\n",
              "      <th>RAD</th>\n",
              "      <th>TAX</th>\n",
              "      <th>PTRATIO</th>\n",
              "      <th>B</th>\n",
              "      <th>LSTAT</th>\n",
              "      <th>MEDV</th>\n",
              "    </tr>\n",
              "  </thead>\n",
              "  <tbody>\n",
              "    <tr>\n",
              "      <th>0</th>\n",
              "      <td>0.00632</td>\n",
              "      <td>18.0</td>\n",
              "      <td>2.31</td>\n",
              "      <td>0</td>\n",
              "      <td>0.538</td>\n",
              "      <td>6.575</td>\n",
              "      <td>65.2</td>\n",
              "      <td>4.0900</td>\n",
              "      <td>1</td>\n",
              "      <td>296.0</td>\n",
              "      <td>15.3</td>\n",
              "      <td>396.90</td>\n",
              "      <td>4.98</td>\n",
              "      <td>24.0</td>\n",
              "    </tr>\n",
              "    <tr>\n",
              "      <th>1</th>\n",
              "      <td>0.02731</td>\n",
              "      <td>0.0</td>\n",
              "      <td>7.07</td>\n",
              "      <td>0</td>\n",
              "      <td>0.469</td>\n",
              "      <td>6.421</td>\n",
              "      <td>78.9</td>\n",
              "      <td>4.9671</td>\n",
              "      <td>2</td>\n",
              "      <td>242.0</td>\n",
              "      <td>17.8</td>\n",
              "      <td>396.90</td>\n",
              "      <td>9.14</td>\n",
              "      <td>21.6</td>\n",
              "    </tr>\n",
              "    <tr>\n",
              "      <th>2</th>\n",
              "      <td>0.02729</td>\n",
              "      <td>0.0</td>\n",
              "      <td>7.07</td>\n",
              "      <td>0</td>\n",
              "      <td>0.469</td>\n",
              "      <td>7.185</td>\n",
              "      <td>61.1</td>\n",
              "      <td>4.9671</td>\n",
              "      <td>2</td>\n",
              "      <td>242.0</td>\n",
              "      <td>17.8</td>\n",
              "      <td>392.83</td>\n",
              "      <td>4.03</td>\n",
              "      <td>34.7</td>\n",
              "    </tr>\n",
              "    <tr>\n",
              "      <th>3</th>\n",
              "      <td>0.03237</td>\n",
              "      <td>0.0</td>\n",
              "      <td>2.18</td>\n",
              "      <td>0</td>\n",
              "      <td>0.458</td>\n",
              "      <td>6.998</td>\n",
              "      <td>45.8</td>\n",
              "      <td>6.0622</td>\n",
              "      <td>3</td>\n",
              "      <td>222.0</td>\n",
              "      <td>18.7</td>\n",
              "      <td>394.63</td>\n",
              "      <td>2.94</td>\n",
              "      <td>33.4</td>\n",
              "    </tr>\n",
              "    <tr>\n",
              "      <th>4</th>\n",
              "      <td>0.06905</td>\n",
              "      <td>0.0</td>\n",
              "      <td>2.18</td>\n",
              "      <td>0</td>\n",
              "      <td>0.458</td>\n",
              "      <td>7.147</td>\n",
              "      <td>54.2</td>\n",
              "      <td>6.0622</td>\n",
              "      <td>3</td>\n",
              "      <td>222.0</td>\n",
              "      <td>18.7</td>\n",
              "      <td>396.90</td>\n",
              "      <td>5.33</td>\n",
              "      <td>36.2</td>\n",
              "    </tr>\n",
              "  </tbody>\n",
              "</table>\n",
              "</div>\n",
              "      <button class=\"colab-df-convert\" onclick=\"convertToInteractive('df-b8d66cc2-6e03-487b-9211-56ac02aabcc6')\"\n",
              "              title=\"Convert this dataframe to an interactive table.\"\n",
              "              style=\"display:none;\">\n",
              "        \n",
              "  <svg xmlns=\"http://www.w3.org/2000/svg\" height=\"24px\"viewBox=\"0 0 24 24\"\n",
              "       width=\"24px\">\n",
              "    <path d=\"M0 0h24v24H0V0z\" fill=\"none\"/>\n",
              "    <path d=\"M18.56 5.44l.94 2.06.94-2.06 2.06-.94-2.06-.94-.94-2.06-.94 2.06-2.06.94zm-11 1L8.5 8.5l.94-2.06 2.06-.94-2.06-.94L8.5 2.5l-.94 2.06-2.06.94zm10 10l.94 2.06.94-2.06 2.06-.94-2.06-.94-.94-2.06-.94 2.06-2.06.94z\"/><path d=\"M17.41 7.96l-1.37-1.37c-.4-.4-.92-.59-1.43-.59-.52 0-1.04.2-1.43.59L10.3 9.45l-7.72 7.72c-.78.78-.78 2.05 0 2.83L4 21.41c.39.39.9.59 1.41.59.51 0 1.02-.2 1.41-.59l7.78-7.78 2.81-2.81c.8-.78.8-2.07 0-2.86zM5.41 20L4 18.59l7.72-7.72 1.47 1.35L5.41 20z\"/>\n",
              "  </svg>\n",
              "      </button>\n",
              "      \n",
              "  <style>\n",
              "    .colab-df-container {\n",
              "      display:flex;\n",
              "      flex-wrap:wrap;\n",
              "      gap: 12px;\n",
              "    }\n",
              "\n",
              "    .colab-df-convert {\n",
              "      background-color: #E8F0FE;\n",
              "      border: none;\n",
              "      border-radius: 50%;\n",
              "      cursor: pointer;\n",
              "      display: none;\n",
              "      fill: #1967D2;\n",
              "      height: 32px;\n",
              "      padding: 0 0 0 0;\n",
              "      width: 32px;\n",
              "    }\n",
              "\n",
              "    .colab-df-convert:hover {\n",
              "      background-color: #E2EBFA;\n",
              "      box-shadow: 0px 1px 2px rgba(60, 64, 67, 0.3), 0px 1px 3px 1px rgba(60, 64, 67, 0.15);\n",
              "      fill: #174EA6;\n",
              "    }\n",
              "\n",
              "    [theme=dark] .colab-df-convert {\n",
              "      background-color: #3B4455;\n",
              "      fill: #D2E3FC;\n",
              "    }\n",
              "\n",
              "    [theme=dark] .colab-df-convert:hover {\n",
              "      background-color: #434B5C;\n",
              "      box-shadow: 0px 1px 3px 1px rgba(0, 0, 0, 0.15);\n",
              "      filter: drop-shadow(0px 1px 2px rgba(0, 0, 0, 0.3));\n",
              "      fill: #FFFFFF;\n",
              "    }\n",
              "  </style>\n",
              "\n",
              "      <script>\n",
              "        const buttonEl =\n",
              "          document.querySelector('#df-b8d66cc2-6e03-487b-9211-56ac02aabcc6 button.colab-df-convert');\n",
              "        buttonEl.style.display =\n",
              "          google.colab.kernel.accessAllowed ? 'block' : 'none';\n",
              "\n",
              "        async function convertToInteractive(key) {\n",
              "          const element = document.querySelector('#df-b8d66cc2-6e03-487b-9211-56ac02aabcc6');\n",
              "          const dataTable =\n",
              "            await google.colab.kernel.invokeFunction('convertToInteractive',\n",
              "                                                     [key], {});\n",
              "          if (!dataTable) return;\n",
              "\n",
              "          const docLinkHtml = 'Like what you see? Visit the ' +\n",
              "            '<a target=\"_blank\" href=https://colab.research.google.com/notebooks/data_table.ipynb>data table notebook</a>'\n",
              "            + ' to learn more about interactive tables.';\n",
              "          element.innerHTML = '';\n",
              "          dataTable['output_type'] = 'display_data';\n",
              "          await google.colab.output.renderOutput(dataTable, element);\n",
              "          const docLink = document.createElement('div');\n",
              "          docLink.innerHTML = docLinkHtml;\n",
              "          element.appendChild(docLink);\n",
              "        }\n",
              "      </script>\n",
              "    </div>\n",
              "  </div>\n",
              "  "
            ]
          },
          "metadata": {},
          "execution_count": 4
        }
      ]
    },
    {
      "cell_type": "code",
      "source": [
        "dataset.tail()"
      ],
      "metadata": {
        "colab": {
          "base_uri": "https://localhost:8080/",
          "height": 206
        },
        "id": "2G6_L0WTu2K2",
        "outputId": "37c3d454-43ae-46d3-f616-46c97a3afd00"
      },
      "execution_count": null,
      "outputs": [
        {
          "output_type": "execute_result",
          "data": {
            "text/plain": [
              "        CRIM   ZN  INDUS  CHAS    NOX     RM   AGE     DIS  RAD    TAX  \\\n",
              "501  0.06263  0.0  11.93     0  0.573  6.593  69.1  2.4786    1  273.0   \n",
              "502  0.04527  0.0  11.93     0  0.573  6.120  76.7  2.2875    1  273.0   \n",
              "503  0.06076  0.0  11.93     0  0.573  6.976  91.0  2.1675    1  273.0   \n",
              "504  0.10959  0.0  11.93     0  0.573  6.794  89.3  2.3889    1  273.0   \n",
              "505  0.04741  0.0  11.93     0  0.573  6.030  80.8  2.5050    1  273.0   \n",
              "\n",
              "     PTRATIO       B  LSTAT  MEDV  \n",
              "501     21.0  391.99   9.67  22.4  \n",
              "502     21.0  396.90   9.08  20.6  \n",
              "503     21.0  396.90   5.64  23.9  \n",
              "504     21.0  393.45   6.48  22.0  \n",
              "505     21.0  396.90   7.88  11.9  "
            ],
            "text/html": [
              "\n",
              "  <div id=\"df-4712b223-6bb7-46a3-8340-09367e44ac9c\">\n",
              "    <div class=\"colab-df-container\">\n",
              "      <div>\n",
              "<style scoped>\n",
              "    .dataframe tbody tr th:only-of-type {\n",
              "        vertical-align: middle;\n",
              "    }\n",
              "\n",
              "    .dataframe tbody tr th {\n",
              "        vertical-align: top;\n",
              "    }\n",
              "\n",
              "    .dataframe thead th {\n",
              "        text-align: right;\n",
              "    }\n",
              "</style>\n",
              "<table border=\"1\" class=\"dataframe\">\n",
              "  <thead>\n",
              "    <tr style=\"text-align: right;\">\n",
              "      <th></th>\n",
              "      <th>CRIM</th>\n",
              "      <th>ZN</th>\n",
              "      <th>INDUS</th>\n",
              "      <th>CHAS</th>\n",
              "      <th>NOX</th>\n",
              "      <th>RM</th>\n",
              "      <th>AGE</th>\n",
              "      <th>DIS</th>\n",
              "      <th>RAD</th>\n",
              "      <th>TAX</th>\n",
              "      <th>PTRATIO</th>\n",
              "      <th>B</th>\n",
              "      <th>LSTAT</th>\n",
              "      <th>MEDV</th>\n",
              "    </tr>\n",
              "  </thead>\n",
              "  <tbody>\n",
              "    <tr>\n",
              "      <th>501</th>\n",
              "      <td>0.06263</td>\n",
              "      <td>0.0</td>\n",
              "      <td>11.93</td>\n",
              "      <td>0</td>\n",
              "      <td>0.573</td>\n",
              "      <td>6.593</td>\n",
              "      <td>69.1</td>\n",
              "      <td>2.4786</td>\n",
              "      <td>1</td>\n",
              "      <td>273.0</td>\n",
              "      <td>21.0</td>\n",
              "      <td>391.99</td>\n",
              "      <td>9.67</td>\n",
              "      <td>22.4</td>\n",
              "    </tr>\n",
              "    <tr>\n",
              "      <th>502</th>\n",
              "      <td>0.04527</td>\n",
              "      <td>0.0</td>\n",
              "      <td>11.93</td>\n",
              "      <td>0</td>\n",
              "      <td>0.573</td>\n",
              "      <td>6.120</td>\n",
              "      <td>76.7</td>\n",
              "      <td>2.2875</td>\n",
              "      <td>1</td>\n",
              "      <td>273.0</td>\n",
              "      <td>21.0</td>\n",
              "      <td>396.90</td>\n",
              "      <td>9.08</td>\n",
              "      <td>20.6</td>\n",
              "    </tr>\n",
              "    <tr>\n",
              "      <th>503</th>\n",
              "      <td>0.06076</td>\n",
              "      <td>0.0</td>\n",
              "      <td>11.93</td>\n",
              "      <td>0</td>\n",
              "      <td>0.573</td>\n",
              "      <td>6.976</td>\n",
              "      <td>91.0</td>\n",
              "      <td>2.1675</td>\n",
              "      <td>1</td>\n",
              "      <td>273.0</td>\n",
              "      <td>21.0</td>\n",
              "      <td>396.90</td>\n",
              "      <td>5.64</td>\n",
              "      <td>23.9</td>\n",
              "    </tr>\n",
              "    <tr>\n",
              "      <th>504</th>\n",
              "      <td>0.10959</td>\n",
              "      <td>0.0</td>\n",
              "      <td>11.93</td>\n",
              "      <td>0</td>\n",
              "      <td>0.573</td>\n",
              "      <td>6.794</td>\n",
              "      <td>89.3</td>\n",
              "      <td>2.3889</td>\n",
              "      <td>1</td>\n",
              "      <td>273.0</td>\n",
              "      <td>21.0</td>\n",
              "      <td>393.45</td>\n",
              "      <td>6.48</td>\n",
              "      <td>22.0</td>\n",
              "    </tr>\n",
              "    <tr>\n",
              "      <th>505</th>\n",
              "      <td>0.04741</td>\n",
              "      <td>0.0</td>\n",
              "      <td>11.93</td>\n",
              "      <td>0</td>\n",
              "      <td>0.573</td>\n",
              "      <td>6.030</td>\n",
              "      <td>80.8</td>\n",
              "      <td>2.5050</td>\n",
              "      <td>1</td>\n",
              "      <td>273.0</td>\n",
              "      <td>21.0</td>\n",
              "      <td>396.90</td>\n",
              "      <td>7.88</td>\n",
              "      <td>11.9</td>\n",
              "    </tr>\n",
              "  </tbody>\n",
              "</table>\n",
              "</div>\n",
              "      <button class=\"colab-df-convert\" onclick=\"convertToInteractive('df-4712b223-6bb7-46a3-8340-09367e44ac9c')\"\n",
              "              title=\"Convert this dataframe to an interactive table.\"\n",
              "              style=\"display:none;\">\n",
              "        \n",
              "  <svg xmlns=\"http://www.w3.org/2000/svg\" height=\"24px\"viewBox=\"0 0 24 24\"\n",
              "       width=\"24px\">\n",
              "    <path d=\"M0 0h24v24H0V0z\" fill=\"none\"/>\n",
              "    <path d=\"M18.56 5.44l.94 2.06.94-2.06 2.06-.94-2.06-.94-.94-2.06-.94 2.06-2.06.94zm-11 1L8.5 8.5l.94-2.06 2.06-.94-2.06-.94L8.5 2.5l-.94 2.06-2.06.94zm10 10l.94 2.06.94-2.06 2.06-.94-2.06-.94-.94-2.06-.94 2.06-2.06.94z\"/><path d=\"M17.41 7.96l-1.37-1.37c-.4-.4-.92-.59-1.43-.59-.52 0-1.04.2-1.43.59L10.3 9.45l-7.72 7.72c-.78.78-.78 2.05 0 2.83L4 21.41c.39.39.9.59 1.41.59.51 0 1.02-.2 1.41-.59l7.78-7.78 2.81-2.81c.8-.78.8-2.07 0-2.86zM5.41 20L4 18.59l7.72-7.72 1.47 1.35L5.41 20z\"/>\n",
              "  </svg>\n",
              "      </button>\n",
              "      \n",
              "  <style>\n",
              "    .colab-df-container {\n",
              "      display:flex;\n",
              "      flex-wrap:wrap;\n",
              "      gap: 12px;\n",
              "    }\n",
              "\n",
              "    .colab-df-convert {\n",
              "      background-color: #E8F0FE;\n",
              "      border: none;\n",
              "      border-radius: 50%;\n",
              "      cursor: pointer;\n",
              "      display: none;\n",
              "      fill: #1967D2;\n",
              "      height: 32px;\n",
              "      padding: 0 0 0 0;\n",
              "      width: 32px;\n",
              "    }\n",
              "\n",
              "    .colab-df-convert:hover {\n",
              "      background-color: #E2EBFA;\n",
              "      box-shadow: 0px 1px 2px rgba(60, 64, 67, 0.3), 0px 1px 3px 1px rgba(60, 64, 67, 0.15);\n",
              "      fill: #174EA6;\n",
              "    }\n",
              "\n",
              "    [theme=dark] .colab-df-convert {\n",
              "      background-color: #3B4455;\n",
              "      fill: #D2E3FC;\n",
              "    }\n",
              "\n",
              "    [theme=dark] .colab-df-convert:hover {\n",
              "      background-color: #434B5C;\n",
              "      box-shadow: 0px 1px 3px 1px rgba(0, 0, 0, 0.15);\n",
              "      filter: drop-shadow(0px 1px 2px rgba(0, 0, 0, 0.3));\n",
              "      fill: #FFFFFF;\n",
              "    }\n",
              "  </style>\n",
              "\n",
              "      <script>\n",
              "        const buttonEl =\n",
              "          document.querySelector('#df-4712b223-6bb7-46a3-8340-09367e44ac9c button.colab-df-convert');\n",
              "        buttonEl.style.display =\n",
              "          google.colab.kernel.accessAllowed ? 'block' : 'none';\n",
              "\n",
              "        async function convertToInteractive(key) {\n",
              "          const element = document.querySelector('#df-4712b223-6bb7-46a3-8340-09367e44ac9c');\n",
              "          const dataTable =\n",
              "            await google.colab.kernel.invokeFunction('convertToInteractive',\n",
              "                                                     [key], {});\n",
              "          if (!dataTable) return;\n",
              "\n",
              "          const docLinkHtml = 'Like what you see? Visit the ' +\n",
              "            '<a target=\"_blank\" href=https://colab.research.google.com/notebooks/data_table.ipynb>data table notebook</a>'\n",
              "            + ' to learn more about interactive tables.';\n",
              "          element.innerHTML = '';\n",
              "          dataTable['output_type'] = 'display_data';\n",
              "          await google.colab.output.renderOutput(dataTable, element);\n",
              "          const docLink = document.createElement('div');\n",
              "          docLink.innerHTML = docLinkHtml;\n",
              "          element.appendChild(docLink);\n",
              "        }\n",
              "      </script>\n",
              "    </div>\n",
              "  </div>\n",
              "  "
            ]
          },
          "metadata": {},
          "execution_count": 5
        }
      ]
    },
    {
      "cell_type": "code",
      "source": [
        "dataset.dtypes\n"
      ],
      "metadata": {
        "colab": {
          "base_uri": "https://localhost:8080/"
        },
        "id": "X2mvwCv_utsO",
        "outputId": "98ea309e-bf58-402c-c55f-6613e5c942e5"
      },
      "execution_count": null,
      "outputs": [
        {
          "output_type": "execute_result",
          "data": {
            "text/plain": [
              "CRIM       float64\n",
              "ZN         float64\n",
              "INDUS      float64\n",
              "CHAS         int64\n",
              "NOX        float64\n",
              "RM         float64\n",
              "AGE        float64\n",
              "DIS        float64\n",
              "RAD          int64\n",
              "TAX        float64\n",
              "PTRATIO    float64\n",
              "B          float64\n",
              "LSTAT      float64\n",
              "MEDV       float64\n",
              "dtype: object"
            ]
          },
          "metadata": {},
          "execution_count": 6
        }
      ]
    },
    {
      "cell_type": "markdown",
      "source": [
        "### *Split The Dataset Into Training/Testing*"
      ],
      "metadata": {
        "id": "q5tY6f-6wcyR"
      }
    },
    {
      "cell_type": "code",
      "source": [
        "from sklearn.model_selection import train_test_split\n",
        "x_train, x_test, y_train, y_test = train_test_split(x, y, test_size = 0.3, random_state = 0)"
      ],
      "metadata": {
        "id": "W797hFeQwjb_"
      },
      "execution_count": null,
      "outputs": []
    },
    {
      "cell_type": "markdown",
      "source": [
        "**Target Value : MEDV: Median value of owner-occupied homes in $1000's [k$]**"
      ],
      "metadata": {
        "id": "sah-vHu1vhcE"
      }
    },
    {
      "cell_type": "code",
      "source": [
        "sns.distplot(dataset['MEDV'])\n"
      ],
      "metadata": {
        "id": "Qub4aKOKwAuC",
        "colab": {
          "base_uri": "https://localhost:8080/",
          "height": 351
        },
        "outputId": "154cf017-4960-4d4e-947b-930eaac66c28"
      },
      "execution_count": null,
      "outputs": [
        {
          "output_type": "stream",
          "name": "stderr",
          "text": [
            "/usr/local/lib/python3.7/dist-packages/seaborn/distributions.py:2619: FutureWarning: `distplot` is a deprecated function and will be removed in a future version. Please adapt your code to use either `displot` (a figure-level function with similar flexibility) or `histplot` (an axes-level function for histograms).\n",
            "  warnings.warn(msg, FutureWarning)\n"
          ]
        },
        {
          "output_type": "execute_result",
          "data": {
            "text/plain": [
              "<matplotlib.axes._subplots.AxesSubplot at 0x7fa8ec74ec50>"
            ]
          },
          "metadata": {},
          "execution_count": 8
        },
        {
          "output_type": "display_data",
          "data": {
            "text/plain": [
              "<Figure size 432x288 with 1 Axes>"
            ],
            "image/png": "[encoded data removed]"
          },
          "metadata": {
            "needs_background": "light"
          }
        }
      ]
    },
    {
      "cell_type": "markdown",
      "source": [
        "### `Does price decrease as crime decrease ?`"
      ],
      "metadata": {
        "id": "dhnT-FSHtMrf"
      }
    },
    {
      "cell_type": "code",
      "source": [
        "sns.lmplot(x='CRIM',y='MEDV',data=dataset,aspect=2,height=6)\n",
        "plt.xlabel('Crime rate')\n",
        "plt.ylabel('Median value of owner-occupied home')\n",
        "plt.title('Crime rate vs owner-home value')"
      ],
      "metadata": {
        "colab": {
          "base_uri": "https://localhost:8080/",
          "height": 474
        },
        "id": "L3nGRC6XtgaR",
        "outputId": "bc530c29-7489-49ef-84f9-060bbaa72cb2"
      },
      "execution_count": null,
      "outputs": [
        {
          "output_type": "execute_result",
          "data": {
            "text/plain": [
              "Text(0.5, 1.0, 'Crime rate vs owner-home value')"
            ]
          },
          "metadata": {},
          "execution_count": 30
        },
        {
          "output_type": "display_data",
          "data": {
            "text/plain": [
              "<Figure size 864x432 with 1 Axes>"
            ],
            "image/png": "[encoded data removed]"
          },
          "metadata": {
            "needs_background": "light"
          }
        }
      ]
    },
    {
      "cell_type": "markdown",
      "source": [
        "### Does price decrease as NOX increases ?"
      ],
      "metadata": {
        "id": "5cu8mOgFtMUL"
      }
    },
    {
      "cell_type": "code",
      "source": [
        "sns.lmplot(x='NOX', y='MEDV', data=dataset, aspect=2)\n",
        "plt.xlabel('NOX')\n",
        "plt.ylabel('Median value of owner-occupied home')\n",
        "plt.title('Nitric oxide concentration vs owner-home value')\n",
        "\n"
      ],
      "metadata": {
        "colab": {
          "base_uri": "https://localhost:8080/",
          "height": 402
        },
        "id": "-nOlVmnct-sh",
        "outputId": "5758bed9-8093-4115-932d-e2f6ac197f1f"
      },
      "execution_count": null,
      "outputs": [
        {
          "output_type": "execute_result",
          "data": {
            "text/plain": [
              "Text(0.5, 1.0, 'Nitric oxide concentration vs owner-home value')"
            ]
          },
          "metadata": {},
          "execution_count": 24
        },
        {
          "output_type": "display_data",
          "data": {
            "text/plain": [
              "<Figure size 720x360 with 1 Axes>"
            ],
            "image/png": "[encoded data removed]"
          },
          "metadata": {
            "needs_background": "light"
          }
        }
      ]
    },
    {
      "cell_type": "markdown",
      "source": [
        "### Effect of TAX on MEDV"
      ],
      "metadata": {
        "id": "Z5uQ72QAu1Or"
      }
    },
    {
      "cell_type": "code",
      "source": [
        "sns.lmplot(x='TAX', y='MEDV', data=dataset, aspect=2)\n",
        "plt.xlabel('TAX')\n",
        "plt.ylabel('Median value of owner-occupied home')\n",
        "plt.title('full-value property-tax rate per $10,000 [$/10k] vs owner-home value')\n"
      ],
      "metadata": {
        "colab": {
          "base_uri": "https://localhost:8080/",
          "height": 404
        },
        "id": "27Zay1aSu9cV",
        "outputId": "a818e13d-b49d-49ff-b7ec-718e297622e6"
      },
      "execution_count": null,
      "outputs": [
        {
          "output_type": "execute_result",
          "data": {
            "text/plain": [
              "Text(0.5, 1.0, 'full-value property-tax rate per $10,000 [$/10k] vs owner-home value')"
            ]
          },
          "metadata": {},
          "execution_count": 25
        },
        {
          "output_type": "display_data",
          "data": {
            "text/plain": [
              "<Figure size 720x360 with 1 Axes>"
            ],
            "image/png": "[encoded data removed]"
          },
          "metadata": {
            "needs_background": "light"
          }
        }
      ]
    },
    {
      "cell_type": "markdown",
      "source": [
        "### Effect Of AGE on MEDV"
      ],
      "metadata": {
        "id": "xzscP8slvgCv"
      }
    },
    {
      "cell_type": "code",
      "source": [
        "sns.lmplot(x='AGE', y='MEDV', data=dataset, aspect=2)\n",
        "plt.xlabel('AGE')\n",
        "plt.ylabel('Median value of owner-occupied home')\n",
        "plt.title('proportion of owner-occupied units built prior to 1940 vs owner-home value')\n"
      ],
      "metadata": {
        "colab": {
          "base_uri": "https://localhost:8080/",
          "height": 402
        },
        "id": "_KlRUHGNvlK6",
        "outputId": "b080fdb9-571d-4595-ea6d-8997b4217ebc"
      },
      "execution_count": null,
      "outputs": [
        {
          "output_type": "execute_result",
          "data": {
            "text/plain": [
              "Text(0.5, 1.0, 'proportion of owner-occupied units built prior to 1940 vs owner-home value')"
            ]
          },
          "metadata": {},
          "execution_count": 26
        },
        {
          "output_type": "display_data",
          "data": {
            "text/plain": [
              "<Figure size 720x360 with 1 Axes>"
            ],
            "image/png": "[encoded data removed]"
          },
          "metadata": {
            "needs_background": "light"
          }
        }
      ]
    },
    {
      "cell_type": "markdown",
      "source": [
        ""
      ],
      "metadata": {
        "id": "Sx8H3mUD0EsJ"
      }
    },
    {
      "cell_type": "markdown",
      "source": [
        "### Effect of number of rooms per dwelling on prices "
      ],
      "metadata": {
        "id": "QZX-jsbv0FBI"
      }
    },
    {
      "cell_type": "code",
      "source": [
        "sns.lmplot(x='RM', y='MEDV', data=dataset, aspect=2)\n",
        "plt.xlabel('RM')\n",
        "plt.ylabel('Median value of owner-occupied home')\n",
        "plt.title('average number of rooms per dwelling vs owner-home value')\n"
      ],
      "metadata": {
        "colab": {
          "base_uri": "https://localhost:8080/",
          "height": 402
        },
        "id": "B2BWRo960JPI",
        "outputId": "7e8a8a3a-73f5-4e48-a91c-5fed6210c81c"
      },
      "execution_count": null,
      "outputs": [
        {
          "output_type": "execute_result",
          "data": {
            "text/plain": [
              "Text(0.5, 1.0, 'average number of rooms per dwelling vs owner-home value')"
            ]
          },
          "metadata": {},
          "execution_count": 37
        },
        {
          "output_type": "display_data",
          "data": {
            "text/plain": [
              "<Figure size 720x360 with 1 Axes>"
            ],
            "image/png": "[encoded data removed]"
          },
          "metadata": {
            "needs_background": "light"
          }
        }
      ]
    },
    {
      "cell_type": "markdown",
      "source": [
        "## ***Multiple Linear Regression Model*** "
      ],
      "metadata": {
        "id": "gQOloyj8yWp6"
      }
    },
    {
      "cell_type": "markdown",
      "source": [
        "### Training the Multiple Linear Regression model on the Training set\n"
      ],
      "metadata": {
        "id": "yZqaRuXByiKA"
      }
    },
    {
      "cell_type": "code",
      "source": [
        "from sklearn.linear_model import LinearRegression\n",
        "regressor = LinearRegression()\n",
        "regressor.fit(x_train, y_train)"
      ],
      "metadata": {
        "colab": {
          "base_uri": "https://localhost:8080/"
        },
        "id": "TATmQ0EPygvB",
        "outputId": "f90c79e9-8efd-4b8e-9de7-f996b40c8465"
      },
      "execution_count": null,
      "outputs": [
        {
          "output_type": "execute_result",
          "data": {
            "text/plain": [
              "LinearRegression()"
            ]
          },
          "metadata": {},
          "execution_count": 9
        }
      ]
    },
    {
      "cell_type": "markdown",
      "source": [
        "### Predicting the Test set results"
      ],
      "metadata": {
        "id": "yraVf6CXzdcB"
      }
    },
    {
      "cell_type": "code",
      "source": [
        "y_pred = regressor.predict(x_test)\n",
        "y_train_pred = regressor.predict(x_train)\n",
        "np.set_printoptions(precision=2)\n",
        "print(np.concatenate((y_pred.reshape(len(y_pred),1), y_test.reshape(len(y_test),1)),axis = 1)) \n",
        "#concatenate function expect a tuple of arrays, so we add () , we reshaped because we wanted to print them vertically"
      ],
      "metadata": {
        "colab": {
          "base_uri": "https://localhost:8080/"
        },
        "id": "e4yBmKk_zhlf",
        "outputId": "9bf68af3-a56a-4063-f146-df8de30d3776"
      },
      "execution_count": null,
      "outputs": [
        {
          "output_type": "stream",
          "name": "stdout",
          "text": [
            "[[24.94 22.6 ]\n",
            " [23.75 50.  ]\n",
            " [29.33 23.  ]\n",
            " [11.98  8.3 ]\n",
            " [21.37 21.2 ]\n",
            " [19.19 19.9 ]\n",
            " [20.57 20.6 ]\n",
            " [21.21 18.7 ]\n",
            " [19.05 16.1 ]\n",
            " [20.35 18.6 ]\n",
            " [ 5.44  8.8 ]\n",
            " [16.94 17.2 ]\n",
            " [17.15 14.9 ]\n",
            " [ 5.39 10.5 ]\n",
            " [40.2  50.  ]\n",
            " [32.31 29.  ]\n",
            " [22.46 23.  ]\n",
            " [36.5  33.3 ]\n",
            " [31.04 29.4 ]\n",
            " [23.17 21.  ]\n",
            " [24.75 23.8 ]\n",
            " [24.5  19.1 ]\n",
            " [20.66 20.4 ]\n",
            " [30.45 29.1 ]\n",
            " [22.32 19.3 ]\n",
            " [10.19 23.1 ]\n",
            " [17.44 19.6 ]\n",
            " [18.26 19.4 ]\n",
            " [35.63 38.7 ]\n",
            " [20.82 18.7 ]\n",
            " [18.27 14.6 ]\n",
            " [17.72 20.  ]\n",
            " [19.34 20.5 ]\n",
            " [23.62 20.1 ]\n",
            " [28.98 23.6 ]\n",
            " [19.45 16.8 ]\n",
            " [11.13  5.6 ]\n",
            " [24.82 50.  ]\n",
            " [18.05 14.5 ]\n",
            " [15.6  13.3 ]\n",
            " [26.21 23.9 ]\n",
            " [20.81 20.  ]\n",
            " [22.17 19.8 ]\n",
            " [15.48 13.8 ]\n",
            " [22.62 16.5 ]\n",
            " [24.89 21.6 ]\n",
            " [19.75 20.3 ]\n",
            " [23.05 17.  ]\n",
            " [ 9.85 11.8 ]\n",
            " [24.36 27.5 ]\n",
            " [21.48 15.6 ]\n",
            " [17.62 23.1 ]\n",
            " [24.39 24.3 ]\n",
            " [29.95 42.8 ]\n",
            " [13.57 15.6 ]\n",
            " [21.54 21.7 ]\n",
            " [20.53 17.1 ]\n",
            " [15.03 17.2 ]\n",
            " [14.32 15.  ]\n",
            " [22.12 21.7 ]\n",
            " [17.07 18.6 ]\n",
            " [21.54 21.  ]\n",
            " [32.97 33.1 ]\n",
            " [31.37 31.5 ]\n",
            " [17.79 20.1 ]\n",
            " [32.75 29.8 ]\n",
            " [18.75 15.2 ]\n",
            " [19.21 15.  ]\n",
            " [19.42 27.5 ]\n",
            " [23.08 22.6 ]\n",
            " [22.88 20.  ]\n",
            " [24.06 21.4 ]\n",
            " [30.53 23.5 ]\n",
            " [28.71 31.2 ]\n",
            " [25.91 23.7 ]\n",
            " [ 5.18  7.4 ]\n",
            " [36.87 48.3 ]\n",
            " [23.77 24.4 ]\n",
            " [27.26 22.6 ]\n",
            " [19.26 18.3 ]\n",
            " [28.42 23.3 ]\n",
            " [19.3  17.1 ]\n",
            " [18.95 27.9 ]\n",
            " [38.   44.8 ]\n",
            " [39.44 50.  ]\n",
            " [23.72 23.  ]\n",
            " [24.84 21.4 ]\n",
            " [16.52 10.2 ]\n",
            " [26.   23.3 ]\n",
            " [16.74 23.2 ]\n",
            " [15.49 18.9 ]\n",
            " [13.53 13.4 ]\n",
            " [24.13 21.9 ]\n",
            " [30.77 24.8 ]\n",
            " [22.19 11.9 ]\n",
            " [19.88 24.3 ]\n",
            " [ 0.42 13.8 ]\n",
            " [24.87 24.7 ]\n",
            " [16.06 14.1 ]\n",
            " [17.42 18.7 ]\n",
            " [25.5  28.1 ]\n",
            " [22.35 19.8 ]\n",
            " [32.67 26.7 ]\n",
            " [22.04 21.7 ]\n",
            " [27.3  22.  ]\n",
            " [23.2  22.9 ]\n",
            " [ 6.86 10.4 ]\n",
            " [14.87 21.9 ]\n",
            " [22.32 20.6 ]\n",
            " [29.18 26.4 ]\n",
            " [33.23 41.3 ]\n",
            " [13.24 17.2 ]\n",
            " [19.67 27.1 ]\n",
            " [20.75 20.4 ]\n",
            " [12.02 16.5 ]\n",
            " [23.5  24.4 ]\n",
            " [ 5.56  8.4 ]\n",
            " [19.88 23.  ]\n",
            " [ 9.27  9.7 ]\n",
            " [44.82 50.  ]\n",
            " [30.56 30.5 ]\n",
            " [12.44 12.3 ]\n",
            " [17.33 19.4 ]\n",
            " [21.48 21.2 ]\n",
            " [23.53 20.3 ]\n",
            " [20.5  18.8 ]\n",
            " [35.09 33.4 ]\n",
            " [13.23 18.5 ]\n",
            " [20.7  19.6 ]\n",
            " [35.36 33.2 ]\n",
            " [19.45 13.1 ]\n",
            " [13.82  7.5 ]\n",
            " [14.16 13.6 ]\n",
            " [23.04 17.4 ]\n",
            " [15.08  8.4 ]\n",
            " [30.97 35.4 ]\n",
            " [25.23 24.  ]\n",
            " [15.44 13.4 ]\n",
            " [24.06 26.2 ]\n",
            " [ 9.93  7.2 ]\n",
            " [15.02 13.1 ]\n",
            " [21.06 24.5 ]\n",
            " [32.87 37.2 ]\n",
            " [27.81 25.  ]\n",
            " [25.91 24.1 ]\n",
            " [15.28 16.6 ]\n",
            " [30.97 32.9 ]\n",
            " [27.81 36.2 ]\n",
            " [14.51 11.  ]\n",
            " [ 7.57  7.2 ]\n",
            " [28.33 22.8 ]\n",
            " [25.04 28.7 ]]\n"
          ]
        }
      ]
    },
    {
      "cell_type": "markdown",
      "source": [
        "### Plotting our predictions"
      ],
      "metadata": {
        "id": "GdjdzhWb4dcL"
      }
    },
    {
      "cell_type": "code",
      "source": [
        "plt.scatter(y_test, y_pred)\n",
        "plt.title('Non linearity indicates a high range of error , as previously seen by the predictions')\n",
        "plt.show()"
      ],
      "metadata": {
        "colab": {
          "base_uri": "https://localhost:8080/",
          "height": 281
        },
        "id": "nUb7IcnX4hJk",
        "outputId": "da02fa58-8c23-4243-9a71-652abb8a0263"
      },
      "execution_count": null,
      "outputs": [
        {
          "output_type": "display_data",
          "data": {
            "text/plain": [
              "<Figure size 432x288 with 1 Axes>"
            ],
            "image/png": "[encoded data removed]"
          },
          "metadata": {
            "needs_background": "light"
          }
        }
      ]
    },
    {
      "cell_type": "code",
      "source": [
        "print('Test set evaluation:\\n_____________________________________')\n",
        "print_evaluate(y_test, y_pred)\n",
        "print('Train set evaluation:\\n_____________________________________')\n",
        "print_evaluate(y_train, y_train_pred)\n",
        "print('As can be seen , the MSE is too high , thus we need to try a different model')"
      ],
      "metadata": {
        "colab": {
          "base_uri": "https://localhost:8080/"
        },
        "id": "m0VxCsuz9SQh",
        "outputId": "5387e70a-2ae4-4236-eba7-521bc8008121"
      },
      "execution_count": null,
      "outputs": [
        {
          "output_type": "stream",
          "name": "stdout",
          "text": [
            "Test set evaluation:\n",
            "_____________________________________\n",
            "MAE: 3.6099040603818096\n",
            "MSE: 27.195965766883408\n",
            "RMSE: 5.214975145375423\n",
            "R2 Square 0.6733825506400171\n",
            "__________________________________\n",
            "Train set evaluation:\n",
            "_____________________________________\n",
            "MAE: 3.103606103908007\n",
            "MSE: 19.958219814238042\n",
            "RMSE: 4.4674623461466405\n",
            "R2 Square 0.7645451026942549\n",
            "__________________________________\n",
            "As can be seen , the MSE is too high , thus we need to try a different model\n"
          ]
        }
      ]
    },
    {
      "cell_type": "markdown",
      "source": [
        "### **`Slope And Intercept**"
      ],
      "metadata": {
        "id": "dXmRoqVqU_bT"
      }
    },
    {
      "cell_type": "code",
      "source": [
        "print(regressor.coef_)\n",
        "print(regressor.intercept_)"
      ],
      "metadata": {
        "colab": {
          "base_uri": "https://localhost:8080/"
        },
        "id": "oR7bb2IzU9fv",
        "outputId": "4f648714-6039-4707-9af6-fad2825b6e04"
      },
      "execution_count": null,
      "outputs": [
        {
          "output_type": "stream",
          "name": "stdout",
          "text": [
            "[-1.21e-01  4.45e-02  1.13e-02  2.51e+00 -1.62e+01  3.86e+00 -9.99e-03\n",
            " -1.50e+00  2.42e-01 -1.11e-02 -1.02e+00  6.81e-03 -4.87e-01]\n",
            "37.93710774183309\n"
          ]
        }
      ]
    },
    {
      "cell_type": "markdown",
      "source": [
        "## ***Polynomial Regression***"
      ],
      "metadata": {
        "id": "MUrsCbkpHhhL"
      }
    },
    {
      "cell_type": "code",
      "source": [
        "from sklearn.preprocessing import PolynomialFeatures\n",
        "\n",
        "poly_reg = PolynomialFeatures(degree=2)\n",
        "\n",
        "x_train_2_d = poly_reg.fit_transform(x_train)\n",
        "x_test_2_d = poly_reg.transform(x_test)\n",
        "\n",
        "lin_reg = LinearRegression()\n",
        "lin_reg.fit(x_train_2_d,y_train)\n",
        "\n",
        "test_pred = lin_reg.predict(x_test_2_d)\n",
        "train_pred = lin_reg.predict(x_train_2_d)"
      ],
      "metadata": {
        "id": "EzfzHRG-Hoyc"
      },
      "execution_count": null,
      "outputs": []
    },
    {
      "cell_type": "code",
      "source": [
        "print('Test set evaluation:\\n_____________________________________')\n",
        "print_evaluate(y_test, test_pred)\n",
        "print('====================================')\n",
        "print('Train set evaluation:\\n_____________________________________')\n",
        "print_evaluate(y_train, train_pred)\n",
        "\n",
        "print('the model is much more performant on the training set , this is a case of OVERFITTING')"
      ],
      "metadata": {
        "colab": {
          "base_uri": "https://localhost:8080/"
        },
        "id": "DWjnv3sMI2M5",
        "outputId": "e979286e-ef8c-4178-cfcc-626f547c01bc"
      },
      "execution_count": null,
      "outputs": [
        {
          "output_type": "stream",
          "name": "stdout",
          "text": [
            "Test set evaluation:\n",
            "_____________________________________\n",
            "MAE: 3.0553482484268515\n",
            "MSE: 29.004173890741928\n",
            "RMSE: 5.385552329217675\n",
            "R2 Square 0.6516663766166686\n",
            "__________________________________\n",
            "====================================\n",
            "Train set evaluation:\n",
            "_____________________________________\n",
            "MAE: 1.5572992381571373\n",
            "MSE: 4.123989210667036\n",
            "RMSE: 2.0307607467811257\n",
            "R2 Square 0.9513476920724716\n",
            "__________________________________\n",
            "the model is much more performant on the training set , this is a case of OVERFITTING\n"
          ]
        }
      ]
    },
    {
      "cell_type": "code",
      "source": [
        "print(np.concatenate((test_pred.reshape(len(test_pred),1), y_test.reshape(len(y_test),1)),axis = 1)) \n"
      ],
      "metadata": {
        "id": "kk-BFClWTUP8",
        "colab": {
          "base_uri": "https://localhost:8080/"
        },
        "outputId": "ac3ad7f1-38bc-4528-803f-4f4d36754696"
      },
      "execution_count": null,
      "outputs": [
        {
          "output_type": "stream",
          "name": "stdout",
          "text": [
            "[[ 23.67  22.6 ]\n",
            " [ 26.88  50.  ]\n",
            " [ 29.84  23.  ]\n",
            " [ 10.18   8.3 ]\n",
            " [ 20.04  21.2 ]\n",
            " [ 19.85  19.9 ]\n",
            " [ 22.22  20.6 ]\n",
            " [ 20.5   18.7 ]\n",
            " [ 12.24  16.1 ]\n",
            " [ 16.98  18.6 ]\n",
            " [  7.42   8.8 ]\n",
            " [ 13.12  17.2 ]\n",
            " [ 14.06  14.9 ]\n",
            " [  8.23  10.5 ]\n",
            " [ 48.62  50.  ]\n",
            " [ 36.37  29.  ]\n",
            " [ 23.66  23.  ]\n",
            " [ 37.13  33.3 ]\n",
            " [ 31.93  29.4 ]\n",
            " [ 22.32  21.  ]\n",
            " [ 24.92  23.8 ]\n",
            " [ 21.58  19.1 ]\n",
            " [ 20.85  20.4 ]\n",
            " [ 27.52  29.1 ]\n",
            " [ 17.97  19.3 ]\n",
            " [ 30.37  23.1 ]\n",
            " [ 16.37  19.6 ]\n",
            " [ 18.16  19.4 ]\n",
            " [ 34.44  38.7 ]\n",
            " [ 13.98  18.7 ]\n",
            " [ 16.52  14.6 ]\n",
            " [ 18.28  20.  ]\n",
            " [ 19.61  20.5 ]\n",
            " [ 19.33  20.1 ]\n",
            " [ 26.44  23.6 ]\n",
            " [ 15.97  16.8 ]\n",
            " [  6.65   5.6 ]\n",
            " [ 36.79  50.  ]\n",
            " [ 16.68  14.5 ]\n",
            " [ 13.43  13.3 ]\n",
            " [ 22.17  23.9 ]\n",
            " [ 19.53  20.  ]\n",
            " [ 19.29  19.8 ]\n",
            " [ 18.93  13.8 ]\n",
            " [ 10.46  16.5 ]\n",
            " [ 22.45  21.6 ]\n",
            " [ 17.58  20.3 ]\n",
            " [  9.15  17.  ]\n",
            " [ 12.55  11.8 ]\n",
            " [ 22.93  27.5 ]\n",
            " [-27.93  15.6 ]\n",
            " [ 25.61  23.1 ]\n",
            " [ 20.04  24.3 ]\n",
            " [ 53.12  42.8 ]\n",
            " [  7.03  15.6 ]\n",
            " [ 21.03  21.7 ]\n",
            " [ 16.89  17.1 ]\n",
            " [ 17.33  17.2 ]\n",
            " [ 16.57  15.  ]\n",
            " [ 19.94  21.7 ]\n",
            " [ 23.89  18.6 ]\n",
            " [ 21.32  21.  ]\n",
            " [ 33.55  33.1 ]\n",
            " [ 28.73  31.5 ]\n",
            " [ 19.61  20.1 ]\n",
            " [ 31.2   29.8 ]\n",
            " [ 15.31  15.2 ]\n",
            " [ 20.05  15.  ]\n",
            " [ 13.7   27.5 ]\n",
            " [ 21.51  22.6 ]\n",
            " [ 18.5   20.  ]\n",
            " [ 22.37  21.4 ]\n",
            " [ 27.16  23.5 ]\n",
            " [ 29.63  31.2 ]\n",
            " [ 28.08  23.7 ]\n",
            " [  9.22   7.4 ]\n",
            " [ 41.49  48.3 ]\n",
            " [ 23.67  24.4 ]\n",
            " [ 26.26  22.6 ]\n",
            " [ 18.95  18.3 ]\n",
            " [ 26.15  23.3 ]\n",
            " [ 18.68  17.1 ]\n",
            " [ 21.83  27.9 ]\n",
            " [ 41.48  44.8 ]\n",
            " [ 43.9   50.  ]\n",
            " [ 24.82  23.  ]\n",
            " [ 23.05  21.4 ]\n",
            " [ 12.14  10.2 ]\n",
            " [ 32.71  23.3 ]\n",
            " [ 15.98  23.2 ]\n",
            " [ 19.58  18.9 ]\n",
            " [  9.01  13.4 ]\n",
            " [ 20.48  21.9 ]\n",
            " [ 30.12  24.8 ]\n",
            " [ 17.89  11.9 ]\n",
            " [ 21.05  24.3 ]\n",
            " [ 13.11  13.8 ]\n",
            " [ 23.77  24.7 ]\n",
            " [ 13.56  14.1 ]\n",
            " [ 14.56  18.7 ]\n",
            " [ 25.69  28.1 ]\n",
            " [ 19.04  19.8 ]\n",
            " [ 31.11  26.7 ]\n",
            " [ 19.46  21.7 ]\n",
            " [ 27.03  22.  ]\n",
            " [ 19.96  22.9 ]\n",
            " [  7.47  10.4 ]\n",
            " [ 20.36  21.9 ]\n",
            " [ 18.41  20.6 ]\n",
            " [ 25.99  26.4 ]\n",
            " [ 36.65  41.3 ]\n",
            " [ 13.74  17.2 ]\n",
            " [ 17.53  27.1 ]\n",
            " [ 18.9   20.4 ]\n",
            " [ 16.2   16.5 ]\n",
            " [ 19.71  24.4 ]\n",
            " [  6.01   8.4 ]\n",
            " [ 20.71  23.  ]\n",
            " [ 11.35   9.7 ]\n",
            " [ 49.21  50.  ]\n",
            " [ 28.96  30.5 ]\n",
            " [ 11.48  12.3 ]\n",
            " [ 16.74  19.4 ]\n",
            " [ 21.38  21.2 ]\n",
            " [ 20.06  20.3 ]\n",
            " [ 19.28  18.8 ]\n",
            " [ 37.16  33.4 ]\n",
            " [ 16.2   18.5 ]\n",
            " [ 15.81  19.6 ]\n",
            " [ 32.01  33.2 ]\n",
            " [ 15.47  13.1 ]\n",
            " [  7.84   7.5 ]\n",
            " [ 12.22  13.6 ]\n",
            " [ 20.06  17.4 ]\n",
            " [  7.88   8.4 ]\n",
            " [ 34.44  35.4 ]\n",
            " [ 21.2   24.  ]\n",
            " [ 12.44  13.4 ]\n",
            " [ 27.89  26.2 ]\n",
            " [  6.89   7.2 ]\n",
            " [  8.88  13.1 ]\n",
            " [ 24.3   24.5 ]\n",
            " [ 37.62  37.2 ]\n",
            " [ 26.91  25.  ]\n",
            " [ 27.71  24.1 ]\n",
            " [ 15.6   16.6 ]\n",
            " [ 34.58  32.9 ]\n",
            " [ 31.97  36.2 ]\n",
            " [ 10.48  11.  ]\n",
            " [  8.21   7.2 ]\n",
            " [ 26.48  22.8 ]\n",
            " [ 25.78  28.7 ]]\n"
          ]
        }
      ]
    },
    {
      "cell_type": "markdown",
      "source": [
        "### **Slope And Intercept**"
      ],
      "metadata": {
        "id": "CRET1hjWVIp5"
      }
    },
    {
      "cell_type": "code",
      "source": [
        "print(lin_reg.coef_)\n",
        "print(lin_reg.intercept_)"
      ],
      "metadata": {
        "colab": {
          "base_uri": "https://localhost:8080/"
        },
        "id": "yIMWnt02VIAl",
        "outputId": "c3bdab34-fbe1-43b9-83d1-7f35e6d8e92e"
      },
      "execution_count": null,
      "outputs": [
        {
          "output_type": "stream",
          "name": "stdout",
          "text": [
            "[-1.70e+08 -1.07e+00  1.91e-01 -6.38e+00  1.53e+01 -1.26e+01  4.14e+00\n",
            "  1.26e+00 -1.15e+01  2.36e-02  1.09e-01  2.29e+00 -1.50e-01 -1.54e+00\n",
            "  2.36e-03  3.03e-01  6.23e-01  1.36e+00 -1.04e-01  6.79e-02 -3.52e-03\n",
            "  1.00e-01  6.37e-01 -4.91e-02  3.21e-01 -6.88e-05  1.21e-02 -1.62e-03\n",
            " -7.13e-03 -7.36e-02 -1.66e+00  2.97e-02  3.69e-04  1.32e-03  2.13e-03\n",
            "  6.19e-04 -1.16e-02  1.27e-03 -4.20e-03  4.98e-02 -1.78e-01  1.20e+00\n",
            "  4.19e-01  5.11e-03  2.02e-01 -3.60e-02  1.58e-03 -5.23e-02  4.63e-03\n",
            " -1.47e-02  1.53e+01 -3.44e+01 -6.64e+00  6.42e-02 -6.52e-01  5.06e-01\n",
            " -1.04e-02 -1.16e+00  1.49e-01 -5.26e-01  4.30e+00  1.15e+01 -3.69e-01\n",
            "  1.45e+01 -1.57e+00  8.29e-02 -7.94e+00  3.37e-02  1.33e+00  9.52e-01\n",
            " -9.53e-02  5.90e-01  1.03e-01 -2.76e-02 -4.71e-01  4.20e-03 -2.57e-02\n",
            "  3.37e-04 -3.13e-03  1.97e-02 -8.02e-04 -5.63e-03 -7.16e-04 -9.15e-03\n",
            "  3.95e-01 -1.12e-01 -3.58e-03 -1.24e-01 -5.69e-03  9.20e-02 -1.86e-01\n",
            "  1.17e-02 -5.76e-02 -1.61e-03 -3.62e-02 -1.05e-04  5.32e-03 -6.59e-05\n",
            "  3.17e-04  2.43e-02  8.62e-03  3.08e-02  1.19e-05  1.82e-04  2.35e-02]\n",
            "170148521.0880578\n"
          ]
        }
      ]
    },
    {
      "cell_type": "markdown",
      "source": [
        "## ***Random Forest***"
      ],
      "metadata": {
        "id": "V4d_ySZCQ9YQ"
      }
    },
    {
      "cell_type": "code",
      "source": [
        "from sklearn.ensemble import RandomForestRegressor\n",
        "\n",
        "rf_regressor = RandomForestRegressor(n_estimators=150)\n",
        "rf_regressor.fit(x_train, y_train)\n",
        "\n",
        "test_pred = rf_regressor.predict(x_test)\n",
        "train_pred = rf_regressor.predict(x_train)\n",
        "\n"
      ],
      "metadata": {
        "id": "1x5wisiKRCND"
      },
      "execution_count": null,
      "outputs": []
    },
    {
      "cell_type": "code",
      "source": [
        "print('Test set evaluation:\\n_____________________________________')\n",
        "print_evaluate(y_test, test_pred)\n",
        "\n",
        "print('Train set evaluation:\\n_____________________________________')\n",
        "print_evaluate(y_train, train_pred)"
      ],
      "metadata": {
        "colab": {
          "base_uri": "https://localhost:8080/"
        },
        "id": "BAhcOebnRM3C",
        "outputId": "989d563f-2d23-4080-b060-9a8e7b5c509d"
      },
      "execution_count": null,
      "outputs": [
        {
          "output_type": "stream",
          "name": "stdout",
          "text": [
            "Test set evaluation:\n",
            "_____________________________________\n",
            "MAE: 2.46580701754386\n",
            "MSE: 14.65967836842106\n",
            "RMSE: 3.828795942384637\n",
            "R2 Square 0.8239405506620437\n",
            "__________________________________\n",
            "Train set evaluation:\n",
            "_____________________________________\n",
            "MAE: 0.7875009416195858\n",
            "MSE: 1.530339524168237\n",
            "RMSE: 1.2370689245827158\n",
            "R2 Square 0.9819459882264198\n",
            "__________________________________\n"
          ]
        }
      ]
    },
    {
      "cell_type": "code",
      "source": [
        "print(np.concatenate((test_pred.reshape(len(test_pred),1), y_test.reshape(len(y_test),1)),axis = 1)) \n"
      ],
      "metadata": {
        "id": "Rn4QwWVDTmgc",
        "colab": {
          "base_uri": "https://localhost:8080/"
        },
        "outputId": "c67eeea4-57e0-4e9d-e04a-c32c77c524a8"
      },
      "execution_count": null,
      "outputs": [
        {
          "output_type": "stream",
          "name": "stdout",
          "text": [
            "[[24.04 22.6 ]\n",
            " [29.76 50.  ]\n",
            " [22.1  23.  ]\n",
            " [10.86  8.3 ]\n",
            " [20.16 21.2 ]\n",
            " [20.87 19.9 ]\n",
            " [20.86 20.6 ]\n",
            " [20.38 18.7 ]\n",
            " [20.1  16.1 ]\n",
            " [18.91 18.6 ]\n",
            " [ 8.43  8.8 ]\n",
            " [14.93 17.2 ]\n",
            " [14.98 14.9 ]\n",
            " [ 9.31 10.5 ]\n",
            " [47.47 50.  ]\n",
            " [33.77 29.  ]\n",
            " [21.08 23.  ]\n",
            " [34.43 33.3 ]\n",
            " [25.45 29.4 ]\n",
            " [21.31 21.  ]\n",
            " [23.7  23.8 ]\n",
            " [22.14 19.1 ]\n",
            " [19.56 20.4 ]\n",
            " [24.22 29.1 ]\n",
            " [19.96 19.3 ]\n",
            " [18.54 23.1 ]\n",
            " [18.78 19.6 ]\n",
            " [16.01 19.4 ]\n",
            " [44.08 38.7 ]\n",
            " [18.69 18.7 ]\n",
            " [14.73 14.6 ]\n",
            " [17.27 20.  ]\n",
            " [20.47 20.5 ]\n",
            " [20.96 20.1 ]\n",
            " [22.89 23.6 ]\n",
            " [17.54 16.8 ]\n",
            " [ 8.98  5.6 ]\n",
            " [29.16 50.  ]\n",
            " [14.49 14.5 ]\n",
            " [14.99 13.3 ]\n",
            " [23.14 23.9 ]\n",
            " [20.63 20.  ]\n",
            " [22.35 19.8 ]\n",
            " [15.45 13.8 ]\n",
            " [23.22 16.5 ]\n",
            " [22.66 21.6 ]\n",
            " [20.6  20.3 ]\n",
            " [16.14 17.  ]\n",
            " [14.96 11.8 ]\n",
            " [25.28 27.5 ]\n",
            " [15.77 15.6 ]\n",
            " [19.82 23.1 ]\n",
            " [20.11 24.3 ]\n",
            " [40.46 42.8 ]\n",
            " [15.08 15.6 ]\n",
            " [20.01 21.7 ]\n",
            " [19.48 17.1 ]\n",
            " [18.79 17.2 ]\n",
            " [24.55 15.  ]\n",
            " [20.34 21.7 ]\n",
            " [21.67 18.6 ]\n",
            " [20.65 21.  ]\n",
            " [33.64 33.1 ]\n",
            " [27.76 31.5 ]\n",
            " [18.25 20.1 ]\n",
            " [27.07 29.8 ]\n",
            " [16.22 15.2 ]\n",
            " [18.25 15.  ]\n",
            " [17.94 27.5 ]\n",
            " [21.39 22.6 ]\n",
            " [20.15 20.  ]\n",
            " [22.99 21.4 ]\n",
            " [24.27 23.5 ]\n",
            " [31.47 31.2 ]\n",
            " [28.96 23.7 ]\n",
            " [ 9.24  7.4 ]\n",
            " [43.24 48.3 ]\n",
            " [21.73 24.4 ]\n",
            " [22.47 22.6 ]\n",
            " [19.48 18.3 ]\n",
            " [26.86 23.3 ]\n",
            " [18.13 17.1 ]\n",
            " [23.81 27.9 ]\n",
            " [42.75 44.8 ]\n",
            " [42.27 50.  ]\n",
            " [24.39 23.  ]\n",
            " [22.91 21.4 ]\n",
            " [14.33 10.2 ]\n",
            " [25.55 23.3 ]\n",
            " [15.68 23.2 ]\n",
            " [18.79 18.9 ]\n",
            " [12.96 13.4 ]\n",
            " [22.6  21.9 ]\n",
            " [30.33 24.8 ]\n",
            " [21.47 11.9 ]\n",
            " [21.9  24.3 ]\n",
            " [11.92 13.8 ]\n",
            " [23.33 24.7 ]\n",
            " [14.99 14.1 ]\n",
            " [18.82 18.7 ]\n",
            " [23.83 28.1 ]\n",
            " [19.99 19.8 ]\n",
            " [28.29 26.7 ]\n",
            " [20.74 21.7 ]\n",
            " [28.39 22.  ]\n",
            " [20.3  22.9 ]\n",
            " [ 9.18 10.4 ]\n",
            " [19.72 21.9 ]\n",
            " [22.01 20.6 ]\n",
            " [23.28 26.4 ]\n",
            " [34.   41.3 ]\n",
            " [13.57 17.2 ]\n",
            " [18.54 27.1 ]\n",
            " [18.48 20.4 ]\n",
            " [17.64 16.5 ]\n",
            " [21.2  24.4 ]\n",
            " [10.18  8.4 ]\n",
            " [19.9  23.  ]\n",
            " [10.89  9.7 ]\n",
            " [47.29 50.  ]\n",
            " [30.28 30.5 ]\n",
            " [10.74 12.3 ]\n",
            " [19.5  19.4 ]\n",
            " [20.36 21.2 ]\n",
            " [20.86 20.3 ]\n",
            " [18.67 18.8 ]\n",
            " [34.18 33.4 ]\n",
            " [18.98 18.5 ]\n",
            " [20.66 19.6 ]\n",
            " [34.7  33.2 ]\n",
            " [14.3  13.1 ]\n",
            " [10.6   7.5 ]\n",
            " [15.17 13.6 ]\n",
            " [19.33 17.4 ]\n",
            " [13.92  8.4 ]\n",
            " [34.58 35.4 ]\n",
            " [20.56 24.  ]\n",
            " [15.7  13.4 ]\n",
            " [26.69 26.2 ]\n",
            " [ 9.45  7.2 ]\n",
            " [11.04 13.1 ]\n",
            " [20.51 24.5 ]\n",
            " [32.84 37.2 ]\n",
            " [24.42 25.  ]\n",
            " [24.61 24.1 ]\n",
            " [16.95 16.6 ]\n",
            " [34.51 32.9 ]\n",
            " [34.06 36.2 ]\n",
            " [11.35 11.  ]\n",
            " [ 9.34  7.2 ]\n",
            " [28.82 22.8 ]\n",
            " [24.49 28.7 ]]\n"
          ]
        }
      ]
    },
    {
      "cell_type": "markdown",
      "source": [
        "# ***As Can Be Seen , The Random Forest Had The Best Metrics Out Of All The Algorithms We Tried Here , Therefore It Is The Best Choice*** "
      ],
      "metadata": {
        "id": "TM9-mQWnUO0o"
      }
    },
    {
      "cell_type": "code",
      "source": [
        "print (rf_regressor.predict([[0.5,10,3,1,0.6,5,60,10,4,400,20,200,10]]) , 'k$')"
      ],
      "metadata": {
        "id": "m6A06gWnVCIy",
        "colab": {
          "base_uri": "https://localhost:8080/"
        },
        "outputId": "56dad4d3-a67d-462b-fde6-046ca803fee5"
      },
      "execution_count": null,
      "outputs": [
        {
          "output_type": "stream",
          "name": "stdout",
          "text": [
            "[19.79] k$\n"
          ]
        }
      ]
    }
  ]
}